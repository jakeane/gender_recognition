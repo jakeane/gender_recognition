{
 "cells": [
  {
   "cell_type": "code",
   "execution_count": 17,
   "id": "ed9a67aa",
   "metadata": {},
   "outputs": [],
   "source": [
    "import pandas as pd\n",
    "\n",
    "from sklearn.linear_model import RidgeClassifier, LogisticRegression\n",
    "from sklearn.ensemble import RandomForestClassifier\n",
    "from sklearn.naive_bayes import GaussianNB\n",
    "\n",
    "from sklearn.model_selection import train_test_split\n",
    "from sklearn.metrics import classification_report, confusion_matrix"
   ]
  },
  {
   "cell_type": "code",
   "execution_count": 2,
   "id": "9febc602",
   "metadata": {},
   "outputs": [],
   "source": [
    "df = pd.read_csv('./audio_features_final.csv', index_col=0)"
   ]
  },
  {
   "cell_type": "code",
   "execution_count": 4,
   "id": "3b66586e",
   "metadata": {},
   "outputs": [],
   "source": [
    "X = df[['pitch', 'intonation', 'f1_diff', 'f2_diff']]\n",
    "y = df['gender']"
   ]
  },
  {
   "cell_type": "code",
   "execution_count": 5,
   "id": "b029ee46",
   "metadata": {},
   "outputs": [],
   "source": [
    "X_train, X_test, y_train, y_test = train_test_split(X, y, test_size=0.2)"
   ]
  },
  {
   "cell_type": "code",
   "execution_count": 7,
   "id": "26a67146",
   "metadata": {},
   "outputs": [
    {
     "name": "stdout",
     "output_type": "stream",
     "text": [
      "              precision    recall  f1-score   support\n",
      "\n",
      "      female       0.96      0.93      0.95       511\n",
      "        male       0.93      0.97      0.95       519\n",
      "\n",
      "    accuracy                           0.95      1030\n",
      "   macro avg       0.95      0.95      0.95      1030\n",
      "weighted avg       0.95      0.95      0.95      1030\n",
      "\n",
      "[[475  36]\n",
      " [ 18 501]]\n"
     ]
    }
   ],
   "source": [
    "rf = RandomForestClassifier()\n",
    "\n",
    "rf.fit(X_train, y_train)\n",
    "preds = rf.predict(X_test)\n",
    "\n",
    "print(classification_report(y_test, preds))\n",
    "print(confusion_matrix(y_test, preds))"
   ]
  },
  {
   "cell_type": "code",
   "execution_count": 10,
   "id": "b5a08072",
   "metadata": {},
   "outputs": [
    {
     "name": "stdout",
     "output_type": "stream",
     "text": [
      "              precision    recall  f1-score   support\n",
      "\n",
      "      female       0.95      0.89      0.92       511\n",
      "        male       0.90      0.95      0.92       519\n",
      "\n",
      "    accuracy                           0.92      1030\n",
      "   macro avg       0.92      0.92      0.92      1030\n",
      "weighted avg       0.92      0.92      0.92      1030\n",
      "\n",
      "[[457  54]\n",
      " [ 26 493]]\n"
     ]
    }
   ],
   "source": [
    "\n",
    "gnb = GaussianNB()\n",
    "\n",
    "gnb.fit(X_train, y_train)\n",
    "preds = gnb.predict(X_test)\n",
    "\n",
    "print(classification_report(y_test, preds))\n",
    "print(confusion_matrix(y_test, preds))"
   ]
  },
  {
   "cell_type": "code",
   "execution_count": 18,
   "id": "742a0fef",
   "metadata": {},
   "outputs": [
    {
     "name": "stdout",
     "output_type": "stream",
     "text": [
      "              precision    recall  f1-score   support\n",
      "\n",
      "      female       0.93      0.90      0.92       511\n",
      "        male       0.91      0.93      0.92       519\n",
      "\n",
      "    accuracy                           0.92      1030\n",
      "   macro avg       0.92      0.92      0.92      1030\n",
      "weighted avg       0.92      0.92      0.92      1030\n",
      "\n",
      "[[462  49]\n",
      " [ 34 485]]\n"
     ]
    }
   ],
   "source": [
    "ridge = RidgeClassifier()\n",
    "\n",
    "ridge.fit(X_train, y_train)\n",
    "preds = ridge.predict(X_test)\n",
    "\n",
    "print(classification_report(y_test, preds))\n",
    "print(confusion_matrix(y_test, preds))"
   ]
  },
  {
   "cell_type": "code",
   "execution_count": 19,
   "id": "2201f584",
   "metadata": {},
   "outputs": [
    {
     "name": "stdout",
     "output_type": "stream",
     "text": [
      "              precision    recall  f1-score   support\n",
      "\n",
      "      female       0.92      0.92      0.92       511\n",
      "        male       0.92      0.92      0.92       519\n",
      "\n",
      "    accuracy                           0.92      1030\n",
      "   macro avg       0.92      0.92      0.92      1030\n",
      "weighted avg       0.92      0.92      0.92      1030\n",
      "\n",
      "[[469  42]\n",
      " [ 40 479]]\n"
     ]
    }
   ],
   "source": [
    "\n",
    "logreg = LogisticRegression()\n",
    "\n",
    "logreg.fit(X_train, y_train)\n",
    "preds = logreg.predict(X_test)\n",
    "\n",
    "print(classification_report(y_test, preds))\n",
    "print(confusion_matrix(y_test, preds))"
   ]
  },
  {
   "cell_type": "code",
   "execution_count": null,
   "id": "4368cc7b",
   "metadata": {},
   "outputs": [],
   "source": []
  }
 ],
 "metadata": {
  "kernelspec": {
   "display_name": "Python 3 (ipykernel)",
   "language": "python",
   "name": "python3"
  },
  "language_info": {
   "codemirror_mode": {
    "name": "ipython",
    "version": 3
   },
   "file_extension": ".py",
   "mimetype": "text/x-python",
   "name": "python",
   "nbconvert_exporter": "python",
   "pygments_lexer": "ipython3",
   "version": "3.9.7"
  }
 },
 "nbformat": 4,
 "nbformat_minor": 5
}
