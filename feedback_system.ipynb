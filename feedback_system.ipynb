{
 "cells": [
  {
   "cell_type": "markdown",
   "metadata": {},
   "source": [
    "# Feedback System Interface\n",
    "June 7th, 2022<br>\n",
    "Adrienne Ko (Adrienne.Ko.23@dartmouth.edu)<br>\n",
    "Jack Keane (John.F.Keane.22@dartmouth.edu)\n",
    "\n",
    "The following code takes in an audio file (.wav) and a target gender, and outputs a prediction of the speaker’s gender identity along with a suggestion on how to improve one’s voice if the target and predicted genders do not match."
   ]
  },
  {
   "cell_type": "code",
   "execution_count": 3,
   "metadata": {},
   "outputs": [],
   "source": [
    "import pandas as pd\n",
    "import numpy as np\n",
    "\n",
    "from sklearn.ensemble import RandomForestClassifier\n",
    "\n",
    "import shap\n",
    "\n",
    "import librosa\n",
    "from scipy.io import wavfile\n",
    "\n",
    "from extractors import get_pitch_intonation, get_formant_diffs"
   ]
  },
  {
   "cell_type": "code",
   "execution_count": 13,
   "metadata": {},
   "outputs": [],
   "source": [
    "import warnings\n",
    "warnings.filterwarnings('ignore')"
   ]
  },
  {
   "cell_type": "code",
   "execution_count": 4,
   "metadata": {},
   "outputs": [],
   "source": [
    "df = pd.read_csv('./audio_features_final.csv', index_col=0)\n",
    "df['resonance'] = df['f1_diff'] + df['f2_diff']\n",
    "\n",
    "X = df[['pitch', 'intonation', 'resonance']]\n",
    "y = df['gender'] #.apply(lambda x: int(x == 'male'))"
   ]
  },
  {
   "cell_type": "code",
   "execution_count": 5,
   "metadata": {},
   "outputs": [
    {
     "data": {
      "text/plain": [
       "RandomForestClassifier(criterion='entropy', max_features=2, min_samples_leaf=5)"
      ]
     },
     "execution_count": 5,
     "metadata": {},
     "output_type": "execute_result"
    }
   ],
   "source": [
    "rf = RandomForestClassifier(criterion='entropy', max_features=2, min_samples_leaf=5)\n",
    "rf.fit(X, y)"
   ]
  },
  {
   "cell_type": "code",
   "execution_count": 6,
   "metadata": {},
   "outputs": [],
   "source": [
    "explainer = shap.TreeExplainer(rf)"
   ]
  },
  {
   "cell_type": "code",
   "execution_count": 17,
   "metadata": {},
   "outputs": [],
   "source": [
    "testfile = './audio_data/mcgill/FA/FA01_02.wav'"
   ]
  },
  {
   "cell_type": "code",
   "execution_count": null,
   "metadata": {},
   "outputs": [
    {
     "name": "stdout",
     "output_type": "stream",
     "text": [
      "Enter your target gender (male, female): m\n",
      "Enter a filename (must be .wav): jack_audio1.wav\n",
      "       pitch  intonation  resonance\n",
      "0  93.733276   10.905282 -273.47093\n",
      "Your voice matches your gender. Good job!\n",
      "\n",
      "--------------------\n",
      "\n",
      "Enter your target gender (male, female): f\n",
      "Enter a filename (must be .wav): jack_audio2.wav\n",
      "        pitch  intonation   resonance\n",
      "0  109.170746   18.935408 -308.337344\n",
      "You wanted to be perceived as female, but your voice was classified as male\n",
      "To improve the gender perception of your voice, we recommend that you increase the variation of your pitch\n",
      "\n",
      "--------------------\n",
      "\n",
      "Enter your target gender (male, female): f\n",
      "Enter a filename (must be .wav): adrienne_audio1.wav\n",
      "        pitch  intonation   resonance\n",
      "0  213.108173    36.99037 -143.270554\n",
      "Your voice matches your gender. Good job!\n",
      "\n",
      "--------------------\n",
      "\n",
      "Enter your target gender (male, female): m\n",
      "Enter a filename (must be .wav): adrienne_audio2.wav\n",
      "        pitch  intonation  resonance\n",
      "0  160.974106   14.525993 -312.20058\n",
      "Your voice matches your gender. Good job!\n",
      "\n",
      "--------------------\n",
      "\n"
     ]
    }
   ],
   "source": [
    "while True:\n",
    "    target_gender = ''\n",
    "    while not target_gender:\n",
    "        user_input = input('Enter your target gender (male, female): ')\n",
    "        if user_input.lower() in {'male', 'female'}:\n",
    "            target_gender = user_input.lower()\n",
    "        elif user_input.lower() == 'm':\n",
    "            target_gender = 'male'\n",
    "        elif user_input.lower() == 'f':\n",
    "            target_gender = 'female'\n",
    "        else:\n",
    "            print('Only male and female genders are available. Please try again')\n",
    "\n",
    "\n",
    "    filename = input('Enter a filename (must be .wav): ')\n",
    "    if not filename:\n",
    "        break\n",
    "    if not filename.endswith('.wav'):\n",
    "        print('Not a .wav file, please try again')\n",
    "        continue\n",
    "\n",
    "    try:\n",
    "        sr, _ = wavfile.read(filename)\n",
    "        \n",
    "        sr = 48000\n",
    "        pitch, intonation = get_pitch_intonation(filename, sr)\n",
    "        f1_diff, f2_diff = get_formant_diffs(filename, sr)\n",
    "        resonance = f1_diff + f2_diff\n",
    "    except Exception as e:\n",
    "        print('Error:', e)\n",
    "        continue\n",
    "\n",
    "    sample = pd.DataFrame(data=[[pitch, intonation, resonance]], columns=['pitch', 'intonation', 'resonance'])\n",
    "    print(sample)\n",
    "    gender_pred = rf.predict(sample)[0]\n",
    "\n",
    "    if target_gender != gender_pred:\n",
    "        want_male = target_gender == 'male'\n",
    "        shap_vals = explainer(sample)\n",
    "        to_change = shap_vals.values[:,:,1].argmin() if want_male else shap_vals.values[:,1].argmax()\n",
    "\n",
    "        print(f'You wanted to be perceived as {target_gender}, but your voice was classified as {gender_pred}')\n",
    "        print('To improve the gender perception of your voice, we recommend that you ', end='')\n",
    "        if to_change == 0:\n",
    "            print(f'{\"decrease\" if want_male else \"increase\"} your pitch')\n",
    "        elif to_change == 1:\n",
    "            print(f'{\"decrease\" if want_male else \"increase\"} the variation of your pitch')\n",
    "        else:\n",
    "            print(f'{\"darken\" if want_male else \"brighten\"} your resonance')\n",
    "    else:\n",
    "        print('Your voice matches your gender. Good job!')\n",
    "        \n",
    "        \n",
    "    print('\\n' + '-'*20 + '\\n')\n",
    "    \n",
    "    "
   ]
  },
  {
   "cell_type": "code",
   "execution_count": null,
   "metadata": {},
   "outputs": [],
   "source": []
  }
 ],
 "metadata": {
  "interpreter": {
   "hash": "40d3a090f54c6569ab1632332b64b2c03c39dcf918b08424e98f38b5ae0af88f"
  },
  "kernelspec": {
   "display_name": "Python 3 (ipykernel)",
   "language": "python",
   "name": "python3"
  },
  "language_info": {
   "codemirror_mode": {
    "name": "ipython",
    "version": 3
   },
   "file_extension": ".py",
   "mimetype": "text/x-python",
   "name": "python",
   "nbconvert_exporter": "python",
   "pygments_lexer": "ipython3",
   "version": "3.9.7"
  }
 },
 "nbformat": 4,
 "nbformat_minor": 2
}
