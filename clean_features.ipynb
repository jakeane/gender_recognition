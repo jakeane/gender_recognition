{
 "cells": [
  {
   "cell_type": "code",
   "execution_count": 24,
   "id": "0fa0cbd0",
   "metadata": {},
   "outputs": [],
   "source": [
    "import pandas as pd\n",
    "import librosa\n",
    "import matplotlib.pyplot as plt"
   ]
  },
  {
   "cell_type": "code",
   "execution_count": 4,
   "id": "c14474e2",
   "metadata": {},
   "outputs": [],
   "source": [
    "df = pd.read_csv('./audio_features.csv', index_col=0)"
   ]
  },
  {
   "cell_type": "code",
   "execution_count": 5,
   "id": "da546600",
   "metadata": {},
   "outputs": [
    {
     "data": {
      "text/html": [
       "<div>\n",
       "<style scoped>\n",
       "    .dataframe tbody tr th:only-of-type {\n",
       "        vertical-align: middle;\n",
       "    }\n",
       "\n",
       "    .dataframe tbody tr th {\n",
       "        vertical-align: top;\n",
       "    }\n",
       "\n",
       "    .dataframe thead th {\n",
       "        text-align: right;\n",
       "    }\n",
       "</style>\n",
       "<table border=\"1\" class=\"dataframe\">\n",
       "  <thead>\n",
       "    <tr style=\"text-align: right;\">\n",
       "      <th></th>\n",
       "      <th>filename</th>\n",
       "      <th>gender</th>\n",
       "      <th>sampling_rate</th>\n",
       "      <th>dialect</th>\n",
       "      <th>source</th>\n",
       "      <th>mic_type</th>\n",
       "      <th>pitch</th>\n",
       "      <th>intonation</th>\n",
       "      <th>f1_diff</th>\n",
       "      <th>f2_diff</th>\n",
       "    </tr>\n",
       "  </thead>\n",
       "  <tbody>\n",
       "    <tr>\n",
       "      <th>0</th>\n",
       "      <td>./audio_data/voxforge/lindavg-20081007-ovc/wav...</td>\n",
       "      <td>female</td>\n",
       "      <td>48000</td>\n",
       "      <td>American English</td>\n",
       "      <td>VoxForge</td>\n",
       "      <td>headset mic</td>\n",
       "      <td>227.870631</td>\n",
       "      <td>81.760692</td>\n",
       "      <td>-13.251472</td>\n",
       "      <td>192.270752</td>\n",
       "    </tr>\n",
       "    <tr>\n",
       "      <th>1</th>\n",
       "      <td>./audio_data/voxforge/anonymous-20171019-nwf/w...</td>\n",
       "      <td>female</td>\n",
       "      <td>48000</td>\n",
       "      <td>American English</td>\n",
       "      <td>VoxForge</td>\n",
       "      <td>laptop built</td>\n",
       "      <td>295.205005</td>\n",
       "      <td>103.197453</td>\n",
       "      <td>55.997711</td>\n",
       "      <td>64.961624</td>\n",
       "    </tr>\n",
       "    <tr>\n",
       "      <th>2</th>\n",
       "      <td>./audio_data/voxforge/anonymous-20100604-qub/w...</td>\n",
       "      <td>female</td>\n",
       "      <td>48000</td>\n",
       "      <td>American English</td>\n",
       "      <td>VoxForge</td>\n",
       "      <td>laptop built</td>\n",
       "      <td>180.343527</td>\n",
       "      <td>82.408648</td>\n",
       "      <td>3.152454</td>\n",
       "      <td>-221.208206</td>\n",
       "    </tr>\n",
       "    <tr>\n",
       "      <th>3</th>\n",
       "      <td>./audio_data/voxforge/anonymous-20111230-bqh/w...</td>\n",
       "      <td>female</td>\n",
       "      <td>48000</td>\n",
       "      <td>American English</td>\n",
       "      <td>VoxForge</td>\n",
       "      <td>laptop built</td>\n",
       "      <td>186.590146</td>\n",
       "      <td>69.239924</td>\n",
       "      <td>25.505727</td>\n",
       "      <td>-140.413540</td>\n",
       "    </tr>\n",
       "    <tr>\n",
       "      <th>4</th>\n",
       "      <td>./audio_data/voxforge/anonymous-20081026-ewe/w...</td>\n",
       "      <td>female</td>\n",
       "      <td>48000</td>\n",
       "      <td>American English</td>\n",
       "      <td>VoxForge</td>\n",
       "      <td>laptop built</td>\n",
       "      <td>163.333829</td>\n",
       "      <td>43.920077</td>\n",
       "      <td>18.454468</td>\n",
       "      <td>-46.543376</td>\n",
       "    </tr>\n",
       "    <tr>\n",
       "      <th>...</th>\n",
       "      <td>...</td>\n",
       "      <td>...</td>\n",
       "      <td>...</td>\n",
       "      <td>...</td>\n",
       "      <td>...</td>\n",
       "      <td>...</td>\n",
       "      <td>...</td>\n",
       "      <td>...</td>\n",
       "      <td>...</td>\n",
       "      <td>...</td>\n",
       "    </tr>\n",
       "    <tr>\n",
       "      <th>5219</th>\n",
       "      <td>./audio_data/mcgill/FH/FH45_02.wav</td>\n",
       "      <td>female</td>\n",
       "      <td>48000</td>\n",
       "      <td>Canadian English</td>\n",
       "      <td>McGill</td>\n",
       "      <td>stereo mic</td>\n",
       "      <td>194.624295</td>\n",
       "      <td>36.324828</td>\n",
       "      <td>-3.813254</td>\n",
       "      <td>68.298148</td>\n",
       "    </tr>\n",
       "    <tr>\n",
       "      <th>5220</th>\n",
       "      <td>./audio_data/mcgill/FH/FH47_05.wav</td>\n",
       "      <td>female</td>\n",
       "      <td>48000</td>\n",
       "      <td>Canadian English</td>\n",
       "      <td>McGill</td>\n",
       "      <td>stereo mic</td>\n",
       "      <td>191.549669</td>\n",
       "      <td>33.684276</td>\n",
       "      <td>-46.658710</td>\n",
       "      <td>242.273596</td>\n",
       "    </tr>\n",
       "    <tr>\n",
       "      <th>5221</th>\n",
       "      <td>./audio_data/mcgill/FH/FH47_10.wav</td>\n",
       "      <td>female</td>\n",
       "      <td>48000</td>\n",
       "      <td>Canadian English</td>\n",
       "      <td>McGill</td>\n",
       "      <td>stereo mic</td>\n",
       "      <td>167.292513</td>\n",
       "      <td>27.059581</td>\n",
       "      <td>86.552900</td>\n",
       "      <td>2.681013</td>\n",
       "    </tr>\n",
       "    <tr>\n",
       "      <th>5222</th>\n",
       "      <td>./audio_data/mcgill/FH/FH47_04.wav</td>\n",
       "      <td>female</td>\n",
       "      <td>48000</td>\n",
       "      <td>Canadian English</td>\n",
       "      <td>McGill</td>\n",
       "      <td>stereo mic</td>\n",
       "      <td>184.234636</td>\n",
       "      <td>39.649572</td>\n",
       "      <td>50.520517</td>\n",
       "      <td>247.121826</td>\n",
       "    </tr>\n",
       "    <tr>\n",
       "      <th>5223</th>\n",
       "      <td>./audio_data/mcgill/FH/FH45_01.wav</td>\n",
       "      <td>female</td>\n",
       "      <td>48000</td>\n",
       "      <td>Canadian English</td>\n",
       "      <td>McGill</td>\n",
       "      <td>stereo mic</td>\n",
       "      <td>201.926129</td>\n",
       "      <td>35.078120</td>\n",
       "      <td>33.225165</td>\n",
       "      <td>136.395068</td>\n",
       "    </tr>\n",
       "  </tbody>\n",
       "</table>\n",
       "<p>5224 rows × 10 columns</p>\n",
       "</div>"
      ],
      "text/plain": [
       "                                               filename  gender  \\\n",
       "0     ./audio_data/voxforge/lindavg-20081007-ovc/wav...  female   \n",
       "1     ./audio_data/voxforge/anonymous-20171019-nwf/w...  female   \n",
       "2     ./audio_data/voxforge/anonymous-20100604-qub/w...  female   \n",
       "3     ./audio_data/voxforge/anonymous-20111230-bqh/w...  female   \n",
       "4     ./audio_data/voxforge/anonymous-20081026-ewe/w...  female   \n",
       "...                                                 ...     ...   \n",
       "5219                 ./audio_data/mcgill/FH/FH45_02.wav  female   \n",
       "5220                 ./audio_data/mcgill/FH/FH47_05.wav  female   \n",
       "5221                 ./audio_data/mcgill/FH/FH47_10.wav  female   \n",
       "5222                 ./audio_data/mcgill/FH/FH47_04.wav  female   \n",
       "5223                 ./audio_data/mcgill/FH/FH45_01.wav  female   \n",
       "\n",
       "      sampling_rate           dialect    source      mic_type       pitch  \\\n",
       "0             48000  American English  VoxForge   headset mic  227.870631   \n",
       "1             48000  American English  VoxForge  laptop built  295.205005   \n",
       "2             48000  American English  VoxForge  laptop built  180.343527   \n",
       "3             48000  American English  VoxForge  laptop built  186.590146   \n",
       "4             48000  American English  VoxForge  laptop built  163.333829   \n",
       "...             ...               ...       ...           ...         ...   \n",
       "5219          48000  Canadian English    McGill    stereo mic  194.624295   \n",
       "5220          48000  Canadian English    McGill    stereo mic  191.549669   \n",
       "5221          48000  Canadian English    McGill    stereo mic  167.292513   \n",
       "5222          48000  Canadian English    McGill    stereo mic  184.234636   \n",
       "5223          48000  Canadian English    McGill    stereo mic  201.926129   \n",
       "\n",
       "      intonation    f1_diff     f2_diff  \n",
       "0      81.760692 -13.251472  192.270752  \n",
       "1     103.197453  55.997711   64.961624  \n",
       "2      82.408648   3.152454 -221.208206  \n",
       "3      69.239924  25.505727 -140.413540  \n",
       "4      43.920077  18.454468  -46.543376  \n",
       "...          ...        ...         ...  \n",
       "5219   36.324828  -3.813254   68.298148  \n",
       "5220   33.684276 -46.658710  242.273596  \n",
       "5221   27.059581  86.552900    2.681013  \n",
       "5222   39.649572  50.520517  247.121826  \n",
       "5223   35.078120  33.225165  136.395068  \n",
       "\n",
       "[5224 rows x 10 columns]"
      ]
     },
     "execution_count": 5,
     "metadata": {},
     "output_type": "execute_result"
    }
   ],
   "source": [
    "df"
   ]
  },
  {
   "cell_type": "code",
   "execution_count": 6,
   "id": "86df2f76",
   "metadata": {},
   "outputs": [],
   "source": [
    "def get_duration(row):\n",
    "    return librosa.get_duration(filename=row['filename'])\n",
    "\n",
    "df['duration'] = df.apply(get_duration, axis=1)"
   ]
  },
  {
   "cell_type": "code",
   "execution_count": 20,
   "id": "b305a00a",
   "metadata": {},
   "outputs": [],
   "source": [
    "final_df = df[(df.f1_diff != -1000) | (df.f2_diff != -1000)]"
   ]
  },
  {
   "cell_type": "code",
   "execution_count": 36,
   "id": "bec82636",
   "metadata": {},
   "outputs": [],
   "source": [
    "final_df.to_csv('./audio_features_final.csv')"
   ]
  },
  {
   "cell_type": "code",
   "execution_count": 25,
   "id": "a6c9fff0",
   "metadata": {},
   "outputs": [],
   "source": [
    "male_df = final_df[final_df.gender == 'male']\n",
    "female_df = final_df[final_df.gender == 'female']"
   ]
  },
  {
   "cell_type": "code",
   "execution_count": 28,
   "id": "8f8825d2",
   "metadata": {},
   "outputs": [
    {
     "data": {
      "image/png": "[encoded data removed]",
      "text/plain": [
       "<Figure size 432x288 with 1 Axes>"
      ]
     },
     "metadata": {
      "needs_background": "light"
     },
     "output_type": "display_data"
    }
   ],
   "source": [
    "plt.hist(male_df.pitch, bins=100, alpha=0.3)\n",
    "plt.hist(female_df.pitch, bins=100, alpha=0.3)\n",
    "plt.show()"
   ]
  },
  {
   "cell_type": "code",
   "execution_count": 29,
   "id": "5fb034bf",
   "metadata": {},
   "outputs": [
    {
     "data": {
      "image/png": "[encoded data removed]",
      "text/plain": [
       "<Figure size 432x288 with 1 Axes>"
      ]
     },
     "metadata": {
      "needs_background": "light"
     },
     "output_type": "display_data"
    }
   ],
   "source": [
    "plt.hist(male_df.intonation, bins=100, alpha=0.3)\n",
    "plt.hist(female_df.intonation, bins=100, alpha=0.3)\n",
    "plt.show()"
   ]
  },
  {
   "cell_type": "code",
   "execution_count": 30,
   "id": "5c353907",
   "metadata": {},
   "outputs": [
    {
     "data": {
      "image/png": "[encoded data removed]",
      "text/plain": [
       "<Figure size 432x288 with 1 Axes>"
      ]
     },
     "metadata": {
      "needs_background": "light"
     },
     "output_type": "display_data"
    }
   ],
   "source": [
    "plt.hist(male_df.f1_diff, bins=100, alpha=0.3)\n",
    "plt.hist(female_df.f1_diff, bins=100, alpha=0.3)\n",
    "plt.show()"
   ]
  },
  {
   "cell_type": "code",
   "execution_count": 31,
   "id": "ff6b2331",
   "metadata": {},
   "outputs": [
    {
     "data": {
      "image/png": "[encoded data removed]",
      "text/plain": [
       "<Figure size 432x288 with 1 Axes>"
      ]
     },
     "metadata": {
      "needs_background": "light"
     },
     "output_type": "display_data"
    }
   ],
   "source": [
    "plt.hist(male_df.f2_diff, bins=100, alpha=0.3)\n",
    "plt.hist(female_df.f2_diff, bins=100, alpha=0.3)\n",
    "plt.show()"
   ]
  },
  {
   "cell_type": "code",
   "execution_count": null,
   "id": "7259a760",
   "metadata": {},
   "outputs": [],
   "source": []
  }
 ],
 "metadata": {
  "kernelspec": {
   "display_name": "Python 3 (ipykernel)",
   "language": "python",
   "name": "python3"
  },
  "language_info": {
   "codemirror_mode": {
    "name": "ipython",
    "version": 3
   },
   "file_extension": ".py",
   "mimetype": "text/x-python",
   "name": "python",
   "nbconvert_exporter": "python",
   "pygments_lexer": "ipython3",
   "version": "3.9.7"
  }
 },
 "nbformat": 4,
 "nbformat_minor": 5
}
